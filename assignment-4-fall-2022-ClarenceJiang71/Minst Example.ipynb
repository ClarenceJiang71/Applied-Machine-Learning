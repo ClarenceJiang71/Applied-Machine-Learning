{
 "cells": [
  {
   "cell_type": "code",
   "execution_count": 1,
   "id": "9376481a",
   "metadata": {},
   "outputs": [],
   "source": [
    "import numpy as np\n",
    "import matplotlib.pyplot as plt\n",
    "import pprint \n",
    "pp = pprint.PrettyPrinter(indent=4)\n",
    "import warnings\n",
    "from keras.utils.np_utils import to_categorical\n",
    "warnings.filterwarnings(\"ignore\")"
   ]
  },
  {
   "cell_type": "code",
   "execution_count": 15,
   "id": "ad26891d",
   "metadata": {},
   "outputs": [],
   "source": [
    "import ssl\n",
    "ssl._create_default_https_context = ssl._create_unverified_context\n",
    "from tensorflow.keras.datasets import mnist\n",
    "(x_dev, y_dev), (x_test, y_test) = mnist.load_data()"
   ]
  },
  {
   "cell_type": "code",
   "execution_count": 16,
   "id": "95893c80",
   "metadata": {},
   "outputs": [
    {
     "data": {
      "text/plain": [
       "(60000, 28, 28)"
      ]
     },
     "execution_count": 16,
     "metadata": {},
     "output_type": "execute_result"
    }
   ],
   "source": [
    "x_dev.shape"
   ]
  },
  {
   "cell_type": "code",
   "execution_count": 17,
   "id": "2826f3be",
   "metadata": {},
   "outputs": [
    {
     "data": {
      "text/plain": [
       "(60000, 28, 28, 1)"
      ]
     },
     "execution_count": 17,
     "metadata": {},
     "output_type": "execute_result"
    }
   ],
   "source": [
    "x_dev = x_dev.reshape(x_dev.shape[0], 28, 28, 1)\n",
    "x_dev.shape"
   ]
  },
  {
   "cell_type": "code",
   "execution_count": 18,
   "id": "7d25dd7c",
   "metadata": {},
   "outputs": [],
   "source": [
    "# x_dev = x_dev.astype('float32')"
   ]
  },
  {
   "cell_type": "code",
   "execution_count": 19,
   "id": "b364fa63",
   "metadata": {},
   "outputs": [],
   "source": [
    "# x_dev /= 255"
   ]
  },
  {
   "cell_type": "code",
   "execution_count": 20,
   "id": "4561198a",
   "metadata": {},
   "outputs": [
    {
     "data": {
      "text/plain": [
       "(60000, 28, 28, 1)"
      ]
     },
     "execution_count": 20,
     "metadata": {},
     "output_type": "execute_result"
    }
   ],
   "source": [
    "x_dev.shape"
   ]
  },
  {
   "cell_type": "code",
   "execution_count": 21,
   "id": "3f2c85cc",
   "metadata": {},
   "outputs": [
    {
     "data": {
      "text/plain": [
       "(60000,)"
      ]
     },
     "execution_count": 21,
     "metadata": {},
     "output_type": "execute_result"
    }
   ],
   "source": [
    "y_dev.shape"
   ]
  },
  {
   "cell_type": "code",
   "execution_count": 22,
   "id": "62016d52",
   "metadata": {},
   "outputs": [],
   "source": [
    "y_dev = to_categorical(y_dev, 10)"
   ]
  },
  {
   "cell_type": "code",
   "execution_count": 23,
   "id": "2a77a194",
   "metadata": {},
   "outputs": [
    {
     "data": {
      "text/plain": [
       "(60000, 10)"
      ]
     },
     "execution_count": 23,
     "metadata": {},
     "output_type": "execute_result"
    }
   ],
   "source": [
    "y_dev.shape"
   ]
  },
  {
   "cell_type": "code",
   "execution_count": 28,
   "id": "3e369e0f",
   "metadata": {},
   "outputs": [],
   "source": [
    "from tensorflow.keras.models import Sequential\n",
    "from tensorflow.keras.layers import Dense, Flatten\n",
    "from tensorflow.keras.layers import Conv2D, MaxPooling2D\n",
    "\n",
    "num_classes = 10 \n",
    "cnn = Sequential()\n",
    "cnn.add(Conv2D(32, kernel_size = (3,3), activation = 'relu', input_shape = (28,28,1)))\n",
    "cnn.add(MaxPooling2D(pool_size = (2,2)))\n",
    "cnn.add(Conv2D(32, (3,3), activation = 'relu'))\n",
    "cnn.add(MaxPooling2D(pool_size = (2,2)))\n",
    "cnn.add(Flatten())\n",
    "cnn.add(Dense(64, activation = 'relu'))\n",
    "cnn.add(Dense(num_classes, activation = 'softmax'))"
   ]
  },
  {
   "cell_type": "code",
   "execution_count": null,
   "id": "a6f96bbb",
   "metadata": {},
   "outputs": [
    {
     "name": "stdout",
     "output_type": "stream",
     "text": [
      "Epoch 1/20\n",
      "422/422 [==============================] - 11s 25ms/step - loss: 0.7046 - accuracy: 0.8896 - val_loss: 0.0986 - val_accuracy: 0.9720\n",
      "Epoch 2/20\n",
      "422/422 [==============================] - 10s 24ms/step - loss: 0.0910 - accuracy: 0.9740 - val_loss: 0.0830 - val_accuracy: 0.9760\n",
      "Epoch 3/20\n",
      "422/422 [==============================] - 10s 24ms/step - loss: 0.0595 - accuracy: 0.9819 - val_loss: 0.0645 - val_accuracy: 0.9823\n",
      "Epoch 4/20\n",
      "422/422 [==============================] - 10s 24ms/step - loss: 0.0427 - accuracy: 0.9870 - val_loss: 0.0564 - val_accuracy: 0.9842\n",
      "Epoch 5/20\n",
      "422/422 [==============================] - 10s 24ms/step - loss: 0.0348 - accuracy: 0.9889 - val_loss: 0.0597 - val_accuracy: 0.9870\n",
      "Epoch 6/20\n",
      "422/422 [==============================] - 10s 24ms/step - loss: 0.0281 - accuracy: 0.9909 - val_loss: 0.0574 - val_accuracy: 0.9850\n",
      "Epoch 7/20\n",
      "422/422 [==============================] - 10s 24ms/step - loss: 0.0237 - accuracy: 0.9921 - val_loss: 0.0579 - val_accuracy: 0.9872\n",
      "Epoch 8/20\n",
      "422/422 [==============================] - 10s 24ms/step - loss: 0.0257 - accuracy: 0.9919 - val_loss: 0.0644 - val_accuracy: 0.9855\n",
      "Epoch 9/20\n",
      "422/422 [==============================] - 14s 33ms/step - loss: 0.0195 - accuracy: 0.9939 - val_loss: 0.0520 - val_accuracy: 0.9877\n",
      "Epoch 10/20\n",
      "422/422 [==============================] - 15s 35ms/step - loss: 0.0191 - accuracy: 0.9937 - val_loss: 0.0646 - val_accuracy: 0.9875\n",
      "Epoch 11/20\n",
      "422/422 [==============================] - 15s 35ms/step - loss: 0.0190 - accuracy: 0.9939 - val_loss: 0.0626 - val_accuracy: 0.9870\n",
      "Epoch 12/20\n",
      "422/422 [==============================] - 15s 35ms/step - loss: 0.0185 - accuracy: 0.9944 - val_loss: 0.0768 - val_accuracy: 0.9837\n",
      "Epoch 13/20\n",
      "211/422 [==============>...............] - ETA: 7s - loss: 0.0144 - accuracy: 0.9953"
     ]
    }
   ],
   "source": [
    "cnn.compile(\"adam\", \"categorical_crossentropy\", metrics=['accuracy'])\n",
    "history = cnn.fit(x_dev, y_dev, batch_size = 128, epochs=20, verbose =1, validation_split =.1)"
   ]
  },
  {
   "cell_type": "code",
   "execution_count": null,
   "id": "7c0487b7",
   "metadata": {},
   "outputs": [],
   "source": []
  }
 ],
 "metadata": {
  "kernelspec": {
   "display_name": "Python 3",
   "language": "python",
   "name": "python3"
  },
  "language_info": {
   "codemirror_mode": {
    "name": "ipython",
    "version": 3
   },
   "file_extension": ".py",
   "mimetype": "text/x-python",
   "name": "python",
   "nbconvert_exporter": "python",
   "pygments_lexer": "ipython3",
   "version": "3.8.8"
  }
 },
 "nbformat": 4,
 "nbformat_minor": 5
}
